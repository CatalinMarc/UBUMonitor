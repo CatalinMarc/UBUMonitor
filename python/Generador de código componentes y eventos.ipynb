{
 "cells": [
  {
   "cell_type": "markdown",
   "metadata": {},
   "source": [
    "## Generador de código componentes y eventos\n",
    "En este Notebook permite generar código en Java para las enumeraciones de los componentes, eventos, los resource bundle y los tipos de logs."
   ]
  },
  {
   "cell_type": "code",
   "execution_count": null,
   "metadata": {
    "collapsed": true
   },
   "outputs": [],
   "source": [
    "from tkinter import filedialog\n",
    "import tkinter as tk\n",
    "import json\n",
    "import re\n",
    "import unicodedata"
   ]
  },
  {
   "cell_type": "markdown",
   "metadata": {},
   "source": [
    "## Selección del fichero JSON que contiene los componentes y eventos."
   ]
  },
  {
   "cell_type": "code",
   "execution_count": null,
   "metadata": {
    "collapsed": true
   },
   "outputs": [],
   "source": [
    "#https://stackoverflow.com/a/42398049\n",
    "\n",
    "root = tk.Tk()\n",
    "# Hide the main window\n",
    "root.withdraw()\n",
    "root.call('wm', 'attributes', '.', '-topmost', True)\n",
    "\n",
    "jsonFile=filedialog.askopenfilename(filetypes=[(\"Fichero JSON\",\".json\")],title=\"Selecciona el fichero JSON\")\n",
    "\n",
    "%gui tk"
   ]
  },
  {
   "cell_type": "code",
   "execution_count": null,
   "metadata": {
    "scrolled": true
   },
   "outputs": [],
   "source": [
    "with open(jsonFile,\"r\",encoding='utf-8') as file:\n",
    "        CM=json.load(file)\n",
    "        print(\"Cargado el JSON:\", jsonFile)"
   ]
  },
  {
   "cell_type": "markdown",
   "metadata": {},
   "source": [
    "## Parseamos los elementos del JSON\n",
    "Convierte un string en mayusculas, los espacios se cambian por _ y solo se aceptan letras del abecedario y numeros.\n",
    "Por ejemplo: \"Submission updated\". se parsea como \"SUBMISSION_UPDATED\""
   ]
  },
  {
   "cell_type": "code",
   "execution_count": null,
   "metadata": {
    "collapsed": true
   },
   "outputs": [],
   "source": [
    "\n",
    "'''Convierte un string en mayusculas, los espacios se cambian por _ y solo se aceptan letras del abecedario y numeros.\n",
    "Por ejemplo Submission updated. se parsea como SUBMISSION_UPDATED\n",
    "'''\n",
    "def parse(string):\n",
    "    #Cambiamos las letras con acento por uno sin acento, fuente: https://stackoverflow.com/a/15261831\n",
    "    parsed=''.join((c for c in unicodedata.normalize('NFD', string) if unicodedata.category(c) != 'Mn'))\n",
    "    parsed=re.sub(\" \",\"_\",parsed) #cambiamos los espacios por _\n",
    "    parsed=re.sub(\"[^\\w]+\",\"\",parsed) #eliminamos todos lo que no sea letra alfabetica ni numero\n",
    "    return parsed.upper() #to upper\n",
    "\n"
   ]
  },
  {
   "cell_type": "code",
   "execution_count": null,
   "metadata": {
    "collapsed": true
   },
   "outputs": [],
   "source": [
    "componentDict={}\n",
    "eventDict={}\n",
    "parsedComponentEventDict={}\n",
    "for component, events in CM.items():\n",
    "    parsedComponent=parse(component)\n",
    "    componentDict[parsedComponent]=component\n",
    "    parsedComponentEventDict[parsedComponent]=[]\n",
    "    for event in events.keys():\n",
    "        parsedEvent=parse(event)\n",
    "        eventDict[parsedEvent]=event\n",
    "        parsedComponentEventDict[parsedComponent].append(parsedEvent)"
   ]
  },
  {
   "cell_type": "markdown",
   "metadata": {},
   "source": [
    "## Generación de la enumeración componente. \n",
    "## (copiar la salida de la celda y pegar en la clase enum Component)"
   ]
  },
  {
   "cell_type": "code",
   "execution_count": null,
   "metadata": {
    "scrolled": true
   },
   "outputs": [],
   "source": [
    "#Para la clase enum component, copiar y pegar la salida a la clase enum Component\n",
    "\n",
    "for k, v in componentDict.items():\n",
    "    print(\"\\t\",k,'(\"',v,'\"),',sep=\"\")\n",
    "print('\\tCOMPONENT_NOT_DEFINED(\"Component not defined\");')   "
   ]
  },
  {
   "cell_type": "markdown",
   "metadata": {},
   "source": [
    "## Generación de la enumeración eventos\n",
    "## (copiar la salida de la celda y pegar en la clase enum Event)"
   ]
  },
  {
   "cell_type": "code",
   "execution_count": null,
   "metadata": {},
   "outputs": [],
   "source": [
    "#Para la clase enum Event\n",
    "\n",
    "sortedEventList=sorted(eventDict.items(),key=lambda x:x[0]) # cuidado lo convierte en una lista de tuplas\n",
    "\n",
    "for k, v in sortedEventList:\n",
    "    print(\"\\t\",k,'(\"',v,'\"),',sep=\"\")\n",
    "print('\\tEVENT_NOT_DEFINED(\"Event not defined\");')"
   ]
  },
  {
   "cell_type": "markdown",
   "metadata": {},
   "source": [
    "## Generación del listado de componentes para el Resource Bundle en Inglés\n",
    "## (copiar la salida de la celda y pegar en el Resource Bundle Inglés)"
   ]
  },
  {
   "cell_type": "code",
   "execution_count": null,
   "metadata": {
    "scrolled": true
   },
   "outputs": [],
   "source": [
    "#Para el resource bundle en ingles\n",
    "for k,v in componentDict.items():\n",
    "    print(\"component.\",k.lower(),\"=\",v,sep=\"\")"
   ]
  },
  {
   "cell_type": "markdown",
   "metadata": {},
   "source": [
    "## Copiar los componentes del Resource Bundle en Español\n",
    "## 1. Ir al fichero de Resource Bundle en Español y copiar los componentes\n",
    "## 2. Pulsar al enter del input (el input bloquea el flujo de la ejecución)\n",
    "## 3. Guardará en una variable lo que haya en el portapapeles"
   ]
  },
  {
   "cell_type": "code",
   "execution_count": null,
   "metadata": {},
   "outputs": [],
   "source": [
    "#Ejecutar esta celda cuando tengas en el portapapeles los el listado de componentes en español\n",
    "input(\"Pulsa enter cuando tengas en el portapapeles los componentes en español del resource bundle.\")\n",
    "pasted=root.clipboard_get()\n",
    "pasted"
   ]
  },
  {
   "cell_type": "code",
   "execution_count": null,
   "metadata": {},
   "outputs": [],
   "source": [
    "spanishComponentsDict={}\n",
    "spanishComponents=pasted.split(\"\\n\")\n",
    "for e in spanishComponents:\n",
    "    if len(e)!=0:\n",
    "        component,traduction=e.split(\"=\")\n",
    "        component=re.sub(\"component.\",\"\",component) #eliminamos component. que esta al principio\n",
    "        spanishComponentsDict[component.upper()]=traduction"
   ]
  },
  {
   "cell_type": "markdown",
   "metadata": {},
   "source": [
    "## Generación del listado de componentes para el Resource Bundle en Español\n",
    "## (copiar la salida de la celda y pegar en el Resource Bundle en Español)"
   ]
  },
  {
   "cell_type": "code",
   "execution_count": null,
   "metadata": {
    "scrolled": false
   },
   "outputs": [],
   "source": [
    "#Copiar y pegar en el resource bundle español el resultado \n",
    "for k,v in componentDict.items():\n",
    "    #si ya existe una entrada en español ponemos su traduccion y si no usamos la traduccion en ingles\n",
    "    traduccion= spanishComponentsDict[k] if k in spanishComponentsDict else v \n",
    "    print(\"component.\",k.lower(),\"=\",traduccion,sep=\"\")"
   ]
  },
  {
   "cell_type": "markdown",
   "metadata": {},
   "source": [
    "## Generación del listado de eventos para el Resource Bundle en Inglés\n",
    "## (copiar la salida de la celda y pegar en el Resource Bundle Inglés)"
   ]
  },
  {
   "cell_type": "code",
   "execution_count": null,
   "metadata": {
    "scrolled": true
   },
   "outputs": [],
   "source": [
    "for k,v in sortedEventList:\n",
    "    print(\"eventname.\",k.lower(),\"=\",v,sep=\"\")"
   ]
  },
  {
   "cell_type": "markdown",
   "metadata": {},
   "source": [
    "## Copiar los eventos del Resource Bundle en Español\n",
    "## 1. Ir al fichero de Resource Bundle en Español y copiar los eventos\n",
    "## 2. Pulsar al enter del input (el input bloquea el flujo de la ejecución)\n",
    "## 3. Guardará en una variable lo que haya en el portapapeles"
   ]
  },
  {
   "cell_type": "code",
   "execution_count": null,
   "metadata": {
    "scrolled": true
   },
   "outputs": [],
   "source": [
    "#Ejecutar esta celda cuando tengas en el portapapeles los el listado de componentes en español\n",
    "input(\"Pulsa enter cuando tengas en el portapepeles los eventnames en español del resource bundle.\")\n",
    "pasted=root.clipboard_get()\n",
    "pasted"
   ]
  },
  {
   "cell_type": "code",
   "execution_count": null,
   "metadata": {},
   "outputs": [],
   "source": [
    "spanishEventsDict={}\n",
    "spanishEvents=pasted.split(\"\\n\")\n",
    "for e in spanishEvents:\n",
    "    if len(e)!=0:\n",
    "        event,traduction=e.split(\"=\")\n",
    "        event=re.sub(\"eventname.\",\"\",event) #eliminamos component. que esta al principio\n",
    "        spanishEventsDict[event.upper()]=traduction "
   ]
  },
  {
   "cell_type": "markdown",
   "metadata": {},
   "source": [
    "## Generación del listado de eventos para el Resource Bundle en Español\n",
    "## (copiar la salida de la celda y pegar en el Resource Bundle Español)"
   ]
  },
  {
   "cell_type": "code",
   "execution_count": null,
   "metadata": {},
   "outputs": [],
   "source": [
    "#Copiar y pegar en el resource bundle español el resultado \n",
    "for k,v in sortedEventList:\n",
    "    #si ya existe una entrada en español ponemos su traduccion y si no usamos la traduccion en ingles\n",
    "    traduccion= spanishEventsDict[k] if k in spanishEventsDict else v \n",
    "    print(\"eventname.\",k.lower(),\"=\",traduccion,sep=\"\")"
   ]
  },
  {
   "cell_type": "markdown",
   "metadata": {},
   "source": [
    "## Copiar los put del map logTypes de controllers.ubulogs.logcreator.logtypes.ReferencesLog\n",
    "## 1. Ir al fichero de controllers.ubulogs.logcreator.logtypes.ReferencesLog y copiar los put del map logTypes\n",
    "## 2. Pulsar al enter del input (el input bloquea el flujo de la ejecución)\n",
    "## 3. Guardará en una variable lo que haya en el portapapeles"
   ]
  },
  {
   "cell_type": "code",
   "execution_count": null,
   "metadata": {},
   "outputs": [],
   "source": [
    "#copiar el contenido \n",
    "input(\"Copias los logTypes de controllers.ubulogs.logcreator.logtypes.ReferencesLog\")\n",
    "pastedLogReferences=root.clipboard_get()\n",
    "pastedLogReferences"
   ]
  },
  {
   "cell_type": "code",
   "execution_count": null,
   "metadata": {},
   "outputs": [],
   "source": [
    "listLogTypes=pastedLogReferences.split(\"\\n\")\n",
    "actualLogTypes={}\n",
    "for logType in listLogTypes:\n",
    "    match=re.search(\"Component.(\\w+), Event.(\\w+)\",logType)\n",
    "    if match:\n",
    "        actualLogTypes[(match.group(1),match.group(2))]=logType"
   ]
  },
  {
   "cell_type": "markdown",
   "metadata": {},
   "source": [
    "## Generación los pares componente-evento \n",
    "## (copiar la salida de la celda y pegar en controllers.ubulogs.logcreator.logtypes.ReferencesLog)"
   ]
  },
  {
   "cell_type": "code",
   "execution_count": null,
   "metadata": {},
   "outputs": [],
   "source": [
    "\n",
    "for component, events in parsedComponentEventDict.items():\n",
    "    print()#dejamos una linea en blanco entre diferentes componentes\n",
    "    for event in events:\n",
    "        if (component,event) in actualLogTypes:\n",
    "            print(actualLogTypes[(component,event)])\n",
    "        else:\n",
    "            print(\"\\t\\t\\tput(ComponentEvent.get(Component.\",component,\", Event.\",event,\"), Default.getInstance()); //TODO\",sep=\"\")\n"
   ]
  },
  {
   "cell_type": "code",
   "execution_count": null,
   "metadata": {
    "collapsed": true
   },
   "outputs": [],
   "source": []
  },
  {
   "cell_type": "code",
   "execution_count": null,
   "metadata": {
    "collapsed": true
   },
   "outputs": [],
   "source": []
  }
 ],
 "metadata": {
  "kernelspec": {
   "display_name": "Python 3",
   "language": "python",
   "name": "python3"
  },
  "language_info": {
   "codemirror_mode": {
    "name": "ipython",
    "version": 3
   },
   "file_extension": ".py",
   "mimetype": "text/x-python",
   "name": "python",
   "nbconvert_exporter": "python",
   "pygments_lexer": "ipython3",
   "version": "3.6.8"
  }
 },
 "nbformat": 4,
 "nbformat_minor": 2
}
