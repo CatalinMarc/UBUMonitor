{
 "cells": [
  {
   "cell_type": "code",
   "execution_count": null,
   "metadata": {
    "collapsed": true
   },
   "outputs": [],
   "source": [
    "from tkinter import filedialog\n",
    "import pickle\n",
    "import csv\n",
    "import tkinter as tk\n",
    "import json\n",
    "import re"
   ]
  },
  {
   "cell_type": "code",
   "execution_count": null,
   "metadata": {
    "collapsed": true
   },
   "outputs": [],
   "source": [
    "\n",
    "#En esta celda permite seleccionar los ficheros csv con ventana y opcionalmente un fichero .pickle donde se guardan los componentes y eventos encontrados anteriormente\n",
    "#https://stackoverflow.com/a/42398049\n",
    "# Create Tk root\n",
    "root = tk.Tk()\n",
    "# Hide the main window\n",
    "root.withdraw()\n",
    "root.call('wm', 'attributes', '.', '-topmost', True)\n",
    "\n",
    "csvFiles = filedialog.askopenfilename(multiple=True,filetypes=[(\"Ficheros CSV\",\".csv\")],title=\"Selecciona los ficheros CSV\")\n",
    "\n",
    "jsonFile=filedialog.askopenfilename(filetypes=[(\"Fichero JSON\",\".json\")],title=\"Selecciona el fichero JSON donde se guarda datos anteriores, si no tienes dale a cancelar\")\n",
    "\n",
    "%gui tk"
   ]
  },
  {
   "cell_type": "code",
   "execution_count": null,
   "metadata": {},
   "outputs": [],
   "source": [
    "#Cargamos los componentes y eventos si se ha seleccionado fichero pickle\n",
    "\n",
    "if len(jsonFile)==0:\n",
    "    CM={}\n",
    "else:\n",
    "    with open(jsonFile,\"r\") as file:\n",
    "        CM=json.load(file)\n",
    "        print(\"Cargado el JSON\", jsonFile)"
   ]
  },
  {
   "cell_type": "code",
   "execution_count": null,
   "metadata": {
    "scrolled": true
   },
   "outputs": [],
   "source": [
    "nuevos={} #nuevos componente y evento\n",
    "for csvFile in csvFiles:\n",
    "    with open(csvFile,encoding='utf-8') as file:\n",
    "        reader = csv.DictReader(file, delimiter=',')\n",
    "        for row in reader:\n",
    "            component=row[\"Component\"]\n",
    "            event=row[\"Event name\"]\n",
    "            \n",
    "            descripNotNumber=re.sub(\"'[^']+'\",\"''\",row[\"Description\"]) #eliminamos el texto que esta entre comillas simples\n",
    "            descripNotNumber=re.sub(\"\\d+\", \"\", descripNotNumber) #eliminamos los numertuos\n",
    "            \n",
    "            descriptions=CM.setdefault(component,{}).setdefault(event,[])\n",
    "            if(descripNotNumber not in descriptions):\n",
    "                descriptions.append(descripNotNumber)\n",
    "                nuevos.setdefault(component,{}).setdefault(event,[]).append(descripNotNumber)\n",
    "                if len(descriptions)>1:\n",
    "                    print(\"Componente y evento con varias descripciones diferentes:\")\n",
    "                    print(\"\\tComponent: \",component,\"\\tEvent:\",event,\"\\tDescriptions: \",descriptions)\n",
    "            "
   ]
  },
  {
   "cell_type": "code",
   "execution_count": null,
   "metadata": {
    "scrolled": true
   },
   "outputs": [],
   "source": [
    "#Guardamos como JSON\n",
    "filename=  jsonFile if len(jsonFile)>0 else \"Componentes y eventos.json\"\n",
    "with open(filename, 'w',encoding='utf-8' ) as f:\n",
    "    json.dump( CM, f,indent=4,sort_keys=True,ensure_ascii=False )\n",
    "    print(\"Guardado como JSON\")"
   ]
  },
  {
   "cell_type": "code",
   "execution_count": null,
   "metadata": {},
   "outputs": [],
   "source": [
    "if len(jsonFile)>0 and len(nuevos)>0: #guardamos como nuevos elementos si se ha cargado un JSON anterior\n",
    "    with open(\"nuevos componentes y eventos.json\", 'w',encoding='utf-8' ) as f:\n",
    "        json.dump( nuevos, f,indent=4,sort_keys=True,ensure_ascii=False )\n",
    "        print(\"Guardado como JSON nuevos elementos\")"
   ]
  },
  {
   "cell_type": "code",
   "execution_count": null,
   "metadata": {
    "collapsed": true
   },
   "outputs": [],
   "source": []
  }
 ],
 "metadata": {
  "kernelspec": {
   "display_name": "Python 3",
   "language": "python",
   "name": "python3"
  },
  "language_info": {
   "codemirror_mode": {
    "name": "ipython",
    "version": 3
   },
   "file_extension": ".py",
   "mimetype": "text/x-python",
   "name": "python",
   "nbconvert_exporter": "python",
   "pygments_lexer": "ipython3",
   "version": "3.6.8"
  }
 },
 "nbformat": 4,
 "nbformat_minor": 2
}
